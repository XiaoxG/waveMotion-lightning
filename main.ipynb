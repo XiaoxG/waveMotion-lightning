{
 "cells": [
  {
   "cell_type": "markdown",
   "metadata": {},
   "source": [
    "file name: main.ipynb (Wavemotion-lightning)\n",
    "Author: Dr. Xiaoxian Guo @ Shanghai Jiao Tong University, China\n",
    "Email: xiaoxguo@sjtu.edu.cn\n",
    "Website: https://naoce.sjtu.edu.cn/teachers/9004.html\n",
    "Github: https://github.com/XiaoxG/waveMotion-lightning/\n",
    "Create date: 2021/10/08\n",
    "Wavemotion-lightning-- a demonstration code for wave motion prediction of an offshore platform. \n",
    "Refers to preprint Arvix: \"Probabilistic prediction of the heave motions of a semi-submersible by a deep learning model\"\n",
    "\n",
    "This notebook demonstrates the learning process of the provided model.\n",
    "\n",
    "Note: since very few data was provided, the performance of the model is poor.\n",
    "\n",
    "More data will be public soon.\n",
    "\n",
    "The model could be trained in this notebook file, or use traditional python file (main.py). A Dockerfile is also provided for more convenient way to train the model. If you have basic knowledge of docker, it is preferred to train the model inside docker."
   ]
  },
  {
   "cell_type": "code",
   "execution_count": null,
   "metadata": {},
   "outputs": [],
   "source": [
    "# %% \n",
    "# Training the model\n",
    "# Only few data was provided for code demonstration only.\n",
    "# Settings of the model can be modified in setting.yaml\n",
    "\n",
    "from myModules.training import training_model\n",
    "from omegaconf import OmegaConf\n",
    "\n",
    "PARAMS = OmegaConf.load('settings.yaml')\n",
    "\n",
    "wavecase_dm, model = training_model(PARAMS)\n",
    "\n",
    "test_loader = wavecase_dm.test_dataloader(noise_level=0.2)\n",
    "sd_surge, sd_wave, mean_surge, mean_wave = wavecase_dm.nor_para\n"
   ]
  },
  {
   "cell_type": "code",
   "execution_count": 1,
   "metadata": {},
   "outputs": [
    {
     "ename": "NameError",
     "evalue": "name 'model' is not defined",
     "output_type": "error",
     "traceback": [
      "\u001b[0;31m---------------------------------------------------------------------------\u001b[0m",
      "\u001b[0;31mNameError\u001b[0m                                 Traceback (most recent call last)",
      "\u001b[0;32m/var/folders/vj/c59mtvk14k31y_7f0mqnycq80000gn/T/ipykernel_82581/1350491452.py\u001b[0m in \u001b[0;36m<module>\u001b[0;34m\u001b[0m\n\u001b[1;32m      4\u001b[0m \u001b[0;32mfrom\u001b[0m \u001b[0mmatplotlib\u001b[0m \u001b[0;32mimport\u001b[0m \u001b[0mpyplot\u001b[0m \u001b[0;32mas\u001b[0m \u001b[0mplt\u001b[0m\u001b[0;34m\u001b[0m\u001b[0;34m\u001b[0m\u001b[0m\n\u001b[1;32m      5\u001b[0m \u001b[0;34m\u001b[0m\u001b[0m\n\u001b[0;32m----> 6\u001b[0;31m \u001b[0mforward_step\u001b[0m \u001b[0;34m=\u001b[0m \u001b[0mmodel\u001b[0m\u001b[0;34m.\u001b[0m\u001b[0mhparams\u001b[0m\u001b[0;34m.\u001b[0m\u001b[0mdata\u001b[0m\u001b[0;34m.\u001b[0m\u001b[0mforward_step\u001b[0m\u001b[0;34m\u001b[0m\u001b[0;34m\u001b[0m\u001b[0m\n\u001b[0m\u001b[1;32m      7\u001b[0m \u001b[0mx1\u001b[0m \u001b[0;34m=\u001b[0m \u001b[0;34m(\u001b[0m\u001b[0mnp\u001b[0m\u001b[0;34m.\u001b[0m\u001b[0marange\u001b[0m\u001b[0;34m(\u001b[0m\u001b[0;36m0\u001b[0m\u001b[0;34m,\u001b[0m\u001b[0mforward_step\u001b[0m\u001b[0;34m*\u001b[0m\u001b[0;36m3\u001b[0m\u001b[0;34m)\u001b[0m\u001b[0;34m-\u001b[0m\u001b[0mforward_step\u001b[0m\u001b[0;34m*\u001b[0m\u001b[0;36m3\u001b[0m\u001b[0;34m)\u001b[0m\u001b[0;34m*\u001b[0m\u001b[0;36m0.774\u001b[0m\u001b[0;34m\u001b[0m\u001b[0;34m\u001b[0m\u001b[0m\n\u001b[1;32m      8\u001b[0m \u001b[0mx2\u001b[0m \u001b[0;34m=\u001b[0m \u001b[0;34m(\u001b[0m\u001b[0mnp\u001b[0m\u001b[0;34m.\u001b[0m\u001b[0marange\u001b[0m\u001b[0;34m(\u001b[0m\u001b[0mforward_step\u001b[0m\u001b[0;34m*\u001b[0m\u001b[0;36m3\u001b[0m\u001b[0;34m,\u001b[0m\u001b[0mforward_step\u001b[0m\u001b[0;34m*\u001b[0m\u001b[0;36m4\u001b[0m\u001b[0;34m)\u001b[0m\u001b[0;34m-\u001b[0m\u001b[0mforward_step\u001b[0m\u001b[0;34m*\u001b[0m\u001b[0;36m3\u001b[0m\u001b[0;34m)\u001b[0m\u001b[0;34m*\u001b[0m\u001b[0;36m0.774\u001b[0m\u001b[0;34m\u001b[0m\u001b[0;34m\u001b[0m\u001b[0m\n",
      "\u001b[0;31mNameError\u001b[0m: name 'model' is not defined"
     ]
    }
   ],
   "source": [
    "# Showing results of the model performance on test dataset.\n",
    "import numpy as np\n",
    "import torch, random\n",
    "import matplotlib.ticker as plticker\n",
    "from matplotlib import pyplot as plt\n",
    "\n",
    "forward_step = model.hparams.data.forward_step\n",
    "x1 = (np.arange(0,forward_step*3)-forward_step*3)*0.774\n",
    "x2 = (np.arange(forward_step*3,forward_step*4)-forward_step*3)*0.774\n",
    "\n",
    "batch = next(iter(test_loader))\n",
    "model.eval()\n",
    "with torch.no_grad():\n",
    "    x_val, y_val = batch\n",
    "    for i in range(2048):\n",
    "            n = random.randint(0, 119)\n",
    "            x_val[i, n, 0] *= 50   # data was in model scale (1:50)\n",
    "    preds = model(x_val)\n",
    "\n",
    "xloc = plticker.MaxNLocator(5)\n",
    "yloc = plticker.LinearLocator(5)\n",
    "fig, axes = plt.subplots(nrows=2, ncols=4, sharex=True, sharey=True, figsize=(8, 3.8))\n",
    "for j in range(2):\n",
    "    for i in range(4):\n",
    "        n = random.randint(0, 511)\n",
    "        axes[j][i].plot(x1, x_val.cpu().numpy()[n,:,0]*sd_surge+mean_surge,color=\"C7\",label='Input')\n",
    "        axes[j][i].plot(x2, y_val.cpu().numpy()[n,:]*sd_surge+mean_surge,color=\"C0\",label='Truth')\n",
    "        axes[j][i].plot(x2, preds.cpu().detach().numpy()[n,:]*sd_surge+mean_surge, '.C3', markersize=3, markevery=1, label='Prediction')\n",
    "        axes[j][i].set_ylim((-6,6))\n",
    "        axes[j][i].xaxis.set_major_locator(xloc)\n",
    "        axes[j][i].yaxis.set_major_locator(yloc)\n",
    "for j in range(2):\n",
    "    axes[j][0].set_ylabel('Heave (m)')\n",
    "for i in range(4):\n",
    "    axes[1][i].set_xlabel('Time (s)')\n",
    "handles, labels = axes[0][0].get_legend_handles_labels()\n",
    "fig.legend(handles, labels, loc='upper center', ncol=3, columnspacing=1.5, handletextpad=0.4,bbox_to_anchor=(0.5, 1.05),fancybox=False,edgecolor='k')\n",
    "fig.tight_layout()\n",
    "fig.show()"
   ]
  },
  {
   "cell_type": "code",
   "execution_count": null,
   "metadata": {},
   "outputs": [],
   "source": []
  }
 ],
 "metadata": {
  "interpreter": {
   "hash": "dca0ade3e726a953b501b15e8e990130d2b7799f14cfd9f4271676035ebe5511"
  },
  "kernelspec": {
   "display_name": "Python 3.8.11 64-bit ('base': conda)",
   "name": "python3"
  },
  "language_info": {
   "codemirror_mode": {
    "name": "ipython",
    "version": 3
   },
   "file_extension": ".py",
   "mimetype": "text/x-python",
   "name": "python",
   "nbconvert_exporter": "python",
   "pygments_lexer": "ipython3",
   "version": "3.8.11"
  },
  "orig_nbformat": 4
 },
 "nbformat": 4,
 "nbformat_minor": 2
}
